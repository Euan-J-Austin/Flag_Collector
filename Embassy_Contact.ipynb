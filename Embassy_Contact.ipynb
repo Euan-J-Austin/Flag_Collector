{
 "cells": [
  {
   "cell_type": "code",
   "execution_count": 1,
   "metadata": {
    "id": "ZrLRLEqBgxdv"
   },
   "outputs": [],
   "source": [
    "import pandas as pd\n",
    "import numpy as np"
   ]
  },
  {
   "cell_type": "markdown",
   "metadata": {},
   "source": [
    "Used nested lists to create a dataframe, saved as csv and then performed a few manual edits so only 'and' was used to separate multiple emails (as opposed to , or ;) then I could split the cell and retrive second email where it existed and append to new column"
   ]
  },
  {
   "cell_type": "code",
   "execution_count": 36,
   "metadata": {
    "id": "QtKniVTYh78G"
   },
   "outputs": [],
   "source": [
    "df = pd.read_csv('embassy_contact.csv')"
   ]
  },
  {
   "cell_type": "code",
   "execution_count": 37,
   "metadata": {
    "id": "7tVLY4Banj5N"
   },
   "outputs": [],
   "source": [
    "df = df.dropna().copy()"
   ]
  },
  {
   "cell_type": "code",
   "execution_count": 38,
   "metadata": {
    "colab": {
     "base_uri": "https://localhost:8080/"
    },
    "id": "ZyAjejicrlgY",
    "outputId": "3d09774b-9e1e-4794-ae08-9097cda92e1c"
   },
   "outputs": [
    {
     "data": {
      "text/plain": [
       "Index(['Nation', 'Representation', 'E_mail'], dtype='object')"
      ]
     },
     "execution_count": 38,
     "metadata": {},
     "output_type": "execute_result"
    }
   ],
   "source": [
    "df.columns"
   ]
  },
  {
   "cell_type": "code",
   "execution_count": 61,
   "metadata": {},
   "outputs": [],
   "source": [
    "holder1 = []\n",
    "holder2 = []"
   ]
  },
  {
   "cell_type": "code",
   "execution_count": 62,
   "metadata": {
    "id": "DRQ6OxZmsoQo"
   },
   "outputs": [],
   "source": [
    "for x in df.E_mail:\n",
    "    x = x.split()\n",
    "    holder1.append(x[0])\n",
    "    if len(x) > 1:\n",
    "        holder2.append(x[2])\n",
    "    else:\n",
    "        holder2.append('None')"
   ]
  },
  {
   "cell_type": "code",
   "execution_count": 68,
   "metadata": {},
   "outputs": [],
   "source": [
    "df['E_mail'] = holder1\n",
    "df['E_mail_2'] = holder2"
   ]
  },
  {
   "cell_type": "code",
   "execution_count": 70,
   "metadata": {},
   "outputs": [],
   "source": [
    "df = df.drop('Email', axis=1).copy()"
   ]
  },
  {
   "cell_type": "code",
   "execution_count": 77,
   "metadata": {},
   "outputs": [],
   "source": [
    "df = df.rename(columns={'E_mail': 'Email', 'E_mail_2': 'Email_2'}).copy()"
   ]
  },
  {
   "cell_type": "code",
   "execution_count": 80,
   "metadata": {},
   "outputs": [
    {
     "data": {
      "text/plain": [
       "Nation                                 Morocco\n",
       "Representation    Embassy of Morocco in London\n",
       "Email                  ambalondres@maec.gov.ma\n",
       "Email_2                  cg.london@maec.gov.ma\n",
       "Name: 18, dtype: object"
      ]
     },
     "execution_count": 80,
     "metadata": {},
     "output_type": "execute_result"
    }
   ],
   "source": [
    "df.iloc[18]"
   ]
  },
  {
   "cell_type": "code",
   "execution_count": 83,
   "metadata": {},
   "outputs": [],
   "source": [
    "df.to_csv(\"embassy_contact.csv\")"
   ]
  }
 ],
 "metadata": {
  "colab": {
   "provenance": []
  },
  "kernelspec": {
   "display_name": "Python 3 (ipykernel)",
   "language": "python",
   "name": "python3"
  },
  "language_info": {
   "codemirror_mode": {
    "name": "ipython",
    "version": 3
   },
   "file_extension": ".py",
   "mimetype": "text/x-python",
   "name": "python",
   "nbconvert_exporter": "python",
   "pygments_lexer": "ipython3",
   "version": "3.9.13"
  }
 },
 "nbformat": 4,
 "nbformat_minor": 1
}
