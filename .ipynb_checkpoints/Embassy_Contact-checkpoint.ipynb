{
 "cells": [
  {
   "cell_type": "code",
   "execution_count": 1,
   "metadata": {
    "id": "ZrLRLEqBgxdv"
   },
   "outputs": [],
   "source": [
    "import pandas as pd\n",
    "import numpy as np"
   ]
  },
  {
   "cell_type": "code",
   "execution_count": 36,
   "metadata": {
    "id": "QtKniVTYh78G"
   },
   "outputs": [],
   "source": [
    "df = pd.read_csv('embassy_contact.csv')"
   ]
  },
  {
   "cell_type": "code",
   "execution_count": 37,
   "metadata": {
    "id": "7tVLY4Banj5N"
   },
   "outputs": [],
   "source": [
    "df = df.dropna().copy()"
   ]
  },
  {
   "cell_type": "code",
   "execution_count": 38,
   "metadata": {
    "colab": {
     "base_uri": "https://localhost:8080/"
    },
    "id": "ZyAjejicrlgY",
    "outputId": "3d09774b-9e1e-4794-ae08-9097cda92e1c"
   },
   "outputs": [
    {
     "data": {
      "text/plain": [
       "Index(['Nation', 'Representation', 'E_mail'], dtype='object')"
      ]
     },
     "execution_count": 38,
     "metadata": {},
     "output_type": "execute_result"
    }
   ],
   "source": [
    "df.columns"
   ]
  },
  {
   "cell_type": "code",
   "execution_count": 57,
   "metadata": {},
   "outputs": [],
   "source": [
    "holder1 = []\n",
    "holder2 = []"
   ]
  },
  {
   "cell_type": "code",
   "execution_count": 58,
   "metadata": {
    "id": "DRQ6OxZmsoQo"
   },
   "outputs": [],
   "source": [
    "for x in df.E_mail:\n",
    "    x = x.split()\n",
    "    holder1.append(x[0])\n",
    "    if len(x) > 1:\n",
    "        holder2.append(x[2])\n",
    "    else:\n",
    "        holder2.append('None')"
   ]
  },
  {
   "cell_type": "code",
   "execution_count": 60,
   "metadata": {},
   "outputs": [
    {
     "data": {
      "text/plain": [
       "['ambamad.contact@madagascarembassy.org',\n",
       " 'cg.london@maec.gov.ma',\n",
       " 'information@nigerianhcorg.uk',\n",
       " 'contacts@afghanistanembassy.org.uk',\n",
       " 'parepglasgow@phclondon.org',\n",
       " 'r.rouse@grenada-highcommission.co.uk',\n",
       " 'embgranbretana@minex.gov.gt',\n",
       " 'michael.thornileywalker@rlblaw.com',\n",
       " 'michaelm@heyn.uk',\n",
       " 'consul_gb@mfa.gov.ua',\n",
       " 'consulate.london@fm.gov.jo',\n",
       " 'emb.leb@btinternet.com']"
      ]
     },
     "execution_count": 60,
     "metadata": {},
     "output_type": "execute_result"
    }
   ],
   "source": [
    "holder2"
   ]
  },
  {
   "cell_type": "code",
   "execution_count": 50,
   "metadata": {},
   "outputs": [
    {
     "data": {
      "text/plain": [
       "Nation                                                      Morocco\n",
       "Representation                         Embassy of Morocco in London\n",
       "E_mail            ambalondres@maec.gov.ma   and   cg.london@maec...\n",
       "E_mail_2                                      cg.london@maec.gov.ma\n",
       "Name: 18, dtype: object"
      ]
     },
     "execution_count": 50,
     "metadata": {},
     "output_type": "execute_result"
    }
   ],
   "source": [
    "df.iloc[18]"
   ]
  }
 ],
 "metadata": {
  "colab": {
   "provenance": []
  },
  "kernelspec": {
   "display_name": "Python 3 (ipykernel)",
   "language": "python",
   "name": "python3"
  },
  "language_info": {
   "codemirror_mode": {
    "name": "ipython",
    "version": 3
   },
   "file_extension": ".py",
   "mimetype": "text/x-python",
   "name": "python",
   "nbconvert_exporter": "python",
   "pygments_lexer": "ipython3",
   "version": "3.9.13"
  }
 },
 "nbformat": 4,
 "nbformat_minor": 1
}
