{
 "cells": [
  {
   "cell_type": "code",
   "execution_count": 274,
   "id": "26be79d4",
   "metadata": {},
   "outputs": [],
   "source": [
    "import pandas as pd\n",
    "import numpy as np"
   ]
  },
  {
   "cell_type": "code",
   "execution_count": 345,
   "id": "909f6b03",
   "metadata": {},
   "outputs": [],
   "source": [
    "df = pd.read_csv('test_embassy_db.csv')"
   ]
  },
  {
   "cell_type": "code",
   "execution_count": 346,
   "id": "70821a11",
   "metadata": {},
   "outputs": [
    {
     "data": {
      "text/html": [
       "<div>\n",
       "<style scoped>\n",
       "    .dataframe tbody tr th:only-of-type {\n",
       "        vertical-align: middle;\n",
       "    }\n",
       "\n",
       "    .dataframe tbody tr th {\n",
       "        vertical-align: top;\n",
       "    }\n",
       "\n",
       "    .dataframe thead th {\n",
       "        text-align: right;\n",
       "    }\n",
       "</style>\n",
       "<table border=\"1\" class=\"dataframe\">\n",
       "  <thead>\n",
       "    <tr style=\"text-align: right;\">\n",
       "      <th></th>\n",
       "      <th>Nation</th>\n",
       "      <th>Pending</th>\n",
       "      <th>Guessed</th>\n",
       "      <th>Representation</th>\n",
       "      <th>Email</th>\n",
       "      <th>Attempted</th>\n",
       "      <th>Success</th>\n",
       "      <th>Email_2</th>\n",
       "      <th>Attempted.1</th>\n",
       "      <th>Success.1</th>\n",
       "    </tr>\n",
       "  </thead>\n",
       "  <tbody>\n",
       "    <tr>\n",
       "      <th>0</th>\n",
       "      <td>Euan</td>\n",
       "      <td>0</td>\n",
       "      <td>1</td>\n",
       "      <td>Embassy of Euan</td>\n",
       "      <td>elvismonarchy@proton.me</td>\n",
       "      <td>Y</td>\n",
       "      <td>N</td>\n",
       "      <td>euan.austin20108@gmail.com</td>\n",
       "      <td>N</td>\n",
       "      <td>0.0</td>\n",
       "    </tr>\n",
       "    <tr>\n",
       "      <th>1</th>\n",
       "      <td>Elvis</td>\n",
       "      <td>0</td>\n",
       "      <td>0</td>\n",
       "      <td>Embassy of Elvis</td>\n",
       "      <td>euan.austin7@gmail.com</td>\n",
       "      <td>0</td>\n",
       "      <td>0</td>\n",
       "      <td>katealice0605@gmail.com</td>\n",
       "      <td>N</td>\n",
       "      <td>0.0</td>\n",
       "    </tr>\n",
       "    <tr>\n",
       "      <th>2</th>\n",
       "      <td>Elvis</td>\n",
       "      <td>0</td>\n",
       "      <td>0</td>\n",
       "      <td>Mephis Mafia</td>\n",
       "      <td>noah.flagcollector@gmail.com</td>\n",
       "      <td>0</td>\n",
       "      <td>0</td>\n",
       "      <td>NaN</td>\n",
       "      <td>NaN</td>\n",
       "      <td>NaN</td>\n",
       "    </tr>\n",
       "  </tbody>\n",
       "</table>\n",
       "</div>"
      ],
      "text/plain": [
       "  Nation  Pending  Guessed    Representation                         Email  \\\n",
       "0   Euan        0        1   Embassy of Euan       elvismonarchy@proton.me   \n",
       "1  Elvis        0        0  Embassy of Elvis        euan.austin7@gmail.com   \n",
       "2  Elvis        0        0      Mephis Mafia  noah.flagcollector@gmail.com   \n",
       "\n",
       "  Attempted Success                     Email_2 Attempted.1  Success.1  \n",
       "0         Y       N  euan.austin20108@gmail.com           N        0.0  \n",
       "1         0       0     katealice0605@gmail.com           N        0.0  \n",
       "2         0       0                         NaN         NaN        NaN  "
      ]
     },
     "execution_count": 346,
     "metadata": {},
     "output_type": "execute_result"
    }
   ],
   "source": [
    "df.head()"
   ]
  },
  {
   "cell_type": "markdown",
   "id": "1a704562",
   "metadata": {},
   "source": [
    "Pending is to indicate that a representation of that nation has a pending email"
   ]
  },
  {
   "cell_type": "code",
   "execution_count": 347,
   "id": "30ecf36e",
   "metadata": {},
   "outputs": [],
   "source": [
    "import random"
   ]
  },
  {
   "cell_type": "code",
   "execution_count": 348,
   "id": "dfb4bb05",
   "metadata": {},
   "outputs": [],
   "source": [
    "n = random.randint(0,2)"
   ]
  },
  {
   "cell_type": "code",
   "execution_count": 349,
   "id": "b3a04ceb",
   "metadata": {},
   "outputs": [],
   "source": [
    "country = df.iloc[n]['Nation'] #ri"
   ]
  },
  {
   "cell_type": "code",
   "execution_count": 350,
   "id": "d13cc01a",
   "metadata": {},
   "outputs": [
    {
     "data": {
      "text/plain": [
       "'Elvis'"
      ]
     },
     "execution_count": 350,
     "metadata": {},
     "output_type": "execute_result"
    }
   ],
   "source": [
    "country"
   ]
  },
  {
   "cell_type": "code",
   "execution_count": 351,
   "id": "0f3c55cb",
   "metadata": {},
   "outputs": [],
   "source": [
    "def get_email(n):\n",
    "    if df.iloc[n]['Pending'] == 1 or df.iloc[n]['Success'] == \"Y\" or df.iloc[n]['Success.1'] == \"Y\":\n",
    "        return get_email(random.randint(0,1))\n",
    "    elif df.iloc[n]['Pending'] == 0:\n",
    "        if df.iloc[n]['Guessed'] == 0:\n",
    "            return(df.iloc[n]['Email'])\n",
    "        elif df.iloc[n]['Success'] == 'N':\n",
    "            if df.iloc[n]['Attempted.1'] == 'N':\n",
    "                return(df.iloc[n]['Email_2'])\n",
    "            if df.iloc[n]['Attempted.1'] == 'Y':\n",
    "                return get_email(random.randint(0,1))\n",
    "    else:\n",
    "        return get_email(random.randint(0,1))"
   ]
  },
  {
   "cell_type": "code",
   "execution_count": 352,
   "id": "99c6d74c",
   "metadata": {},
   "outputs": [],
   "source": [
    "email = get_email(n)"
   ]
  },
  {
   "cell_type": "code",
   "execution_count": 392,
   "id": "058ae7d7",
   "metadata": {},
   "outputs": [
    {
     "data": {
      "text/plain": [
       "'noah.flagcollector@gmail.com'"
      ]
     },
     "execution_count": 392,
     "metadata": {},
     "output_type": "execute_result"
    }
   ],
   "source": [
    "email"
   ]
  },
  {
   "cell_type": "code",
   "execution_count": 389,
   "id": "5119b87e",
   "metadata": {},
   "outputs": [],
   "source": [
    "#will need to edit this, do not want to overwrite previous pending\n",
    "\n",
    "def db_pending(email, df):\n",
    "    f_df = df.copy()\n",
    "    a = f_df.iloc[df.index[f_df['Email']==email]]['Nation'].tolist()\n",
    "    b = f_df.iloc[df.index[f_df['Email_2']==email]]['Nation'].tolist()\n",
    "    print(a,b)\n",
    "    if len(a[0]) > 0:\n",
    "        df['Pending'] = np.where(df['Nation']==a[0], 1,0).copy()\n",
    "        return(df['Pending'])\n",
    "    elif len(b[0]) > 0:\n",
    "        df['Pending'] = np.where(df['Nation']==b[0], 1,0).copy()\n",
    "        return(df['Pending'])"
   ]
  },
  {
   "cell_type": "code",
   "execution_count": 390,
   "id": "bf093083",
   "metadata": {},
   "outputs": [
    {
     "name": "stdout",
     "output_type": "stream",
     "text": [
      "['Elvis'] []\n"
     ]
    },
    {
     "data": {
      "text/plain": [
       "0    0\n",
       "1    1\n",
       "2    1\n",
       "Name: Pending, dtype: int32"
      ]
     },
     "execution_count": 390,
     "metadata": {},
     "output_type": "execute_result"
    }
   ],
   "source": [
    "db_pending(email, df)"
   ]
  },
  {
   "cell_type": "code",
   "execution_count": 424,
   "id": "aa6730c1",
   "metadata": {},
   "outputs": [],
   "source": [
    "def db_attempted(email, df ):\n",
    "    #get col name, if True is in x ammend attempted \n",
    "    print(email)\n",
    "    print(type(email))\n",
    "    if df.query(f\"Email == {email}\")[\"Email\"][0] == email:\n",
    "        df['Attempted'] == np.where(df[\"Email\"][0] == email, 1, 0).copy()\n",
    "    elif df.query(f\"Email_2 == {email}\")[\"Email_2\"][0] == email:\n",
    "           df['Attempted.1'] == np.where(df[\"Email_2\"][0] == email, 1, 0).copy()"
   ]
  },
  {
   "cell_type": "code",
   "execution_count": 425,
   "id": "6de01580",
   "metadata": {},
   "outputs": [
    {
     "name": "stdout",
     "output_type": "stream",
     "text": [
      "noah.flagcollector@gmail.com\n",
      "<class 'str'>\n"
     ]
    }
   ],
   "source": [
    "db_attempted(email, df)"
   ]
  },
  {
   "cell_type": "code",
   "execution_count": 423,
   "id": "369ec8b1",
   "metadata": {},
   "outputs": [
    {
     "data": {
      "text/plain": [
       "True"
      ]
     },
     "execution_count": 423,
     "metadata": {},
     "output_type": "execute_result"
    }
   ],
   "source": [
    "df.query(\"Email == 'elvismonarchy@proton.me'\")[\"Email\"][0] == \"elvismonarchy@proton.me\""
   ]
  },
  {
   "cell_type": "code",
   "execution_count": 272,
   "id": "1873973f",
   "metadata": {},
   "outputs": [],
   "source": [
    "import emailsender as es"
   ]
  },
  {
   "cell_type": "code",
   "execution_count": 273,
   "id": "6cc9d44b",
   "metadata": {},
   "outputs": [],
   "source": [
    "def send_email(email):\n",
    "    es.send_email(email)\n",
    "    db_attempted(email)"
   ]
  },
  {
   "cell_type": "markdown",
   "id": "aee21296",
   "metadata": {},
   "source": [
    "# np where creates new series, compare by condition to amend original columnb "
   ]
  },
  {
   "cell_type": "code",
   "execution_count": 463,
   "id": "a34ed163",
   "metadata": {},
   "outputs": [],
   "source": [
    "x = pd.DataFrame([[1,0],[0,1],[1,0]],columns=[\"P\", \"T\"])"
   ]
  },
  {
   "cell_type": "code",
   "execution_count": 464,
   "id": "42500177",
   "metadata": {},
   "outputs": [],
   "source": [
    "conditions = [\n",
    "    (x[\"P\"] == 1) & (x[\"T\"] == 1),\n",
    "    (x[\"P\"] == 1) & (x[\"T\"] == 0),\n",
    "    (x[\"P\"] == 0) & (x[\"T\"] == 1),\n",
    "    (x[\"P\"] == 0) & (x[\"T\"] == 0)\n",
    "]"
   ]
  },
  {
   "cell_type": "code",
   "execution_count": null,
   "id": "601f4d71",
   "metadata": {},
   "outputs": [],
   "source": [
    "values = [1,1,1,0]"
   ]
  },
  {
   "cell_type": "code",
   "execution_count": 466,
   "id": "cac5835d",
   "metadata": {},
   "outputs": [],
   "source": [
    "x[\"F\"] = np.select(conditions, values)"
   ]
  },
  {
   "cell_type": "code",
   "execution_count": 468,
   "id": "b97bf0e3",
   "metadata": {},
   "outputs": [
    {
     "data": {
      "text/html": [
       "<div>\n",
       "<style scoped>\n",
       "    .dataframe tbody tr th:only-of-type {\n",
       "        vertical-align: middle;\n",
       "    }\n",
       "\n",
       "    .dataframe tbody tr th {\n",
       "        vertical-align: top;\n",
       "    }\n",
       "\n",
       "    .dataframe thead th {\n",
       "        text-align: right;\n",
       "    }\n",
       "</style>\n",
       "<table border=\"1\" class=\"dataframe\">\n",
       "  <thead>\n",
       "    <tr style=\"text-align: right;\">\n",
       "      <th></th>\n",
       "      <th>P</th>\n",
       "      <th>T</th>\n",
       "      <th>F</th>\n",
       "    </tr>\n",
       "  </thead>\n",
       "  <tbody>\n",
       "    <tr>\n",
       "      <th>0</th>\n",
       "      <td>1</td>\n",
       "      <td>0</td>\n",
       "      <td>1</td>\n",
       "    </tr>\n",
       "    <tr>\n",
       "      <th>1</th>\n",
       "      <td>0</td>\n",
       "      <td>1</td>\n",
       "      <td>1</td>\n",
       "    </tr>\n",
       "    <tr>\n",
       "      <th>2</th>\n",
       "      <td>1</td>\n",
       "      <td>0</td>\n",
       "      <td>1</td>\n",
       "    </tr>\n",
       "  </tbody>\n",
       "</table>\n",
       "</div>"
      ],
      "text/plain": [
       "   P  T  F\n",
       "0  1  0  1\n",
       "1  0  1  1\n",
       "2  1  0  1"
      ]
     },
     "execution_count": 468,
     "metadata": {},
     "output_type": "execute_result"
    }
   ],
   "source": [
    "x"
   ]
  }
 ],
 "metadata": {
  "kernelspec": {
   "display_name": "Python 3 (ipykernel)",
   "language": "python",
   "name": "python3"
  },
  "language_info": {
   "codemirror_mode": {
    "name": "ipython",
    "version": 3
   },
   "file_extension": ".py",
   "mimetype": "text/x-python",
   "name": "python",
   "nbconvert_exporter": "python",
   "pygments_lexer": "ipython3",
   "version": "3.9.13"
  }
 },
 "nbformat": 4,
 "nbformat_minor": 5
}
