{
 "cells": [
  {
   "cell_type": "code",
   "execution_count": 18,
   "id": "26be79d4",
   "metadata": {},
   "outputs": [],
   "source": [
    "import pandas as pd\n",
    "import numpy as np"
   ]
  },
  {
   "cell_type": "code",
   "execution_count": 19,
   "id": "909f6b03",
   "metadata": {},
   "outputs": [],
   "source": [
    "df = pd.read_csv('embassy_contact.csv')"
   ]
  },
  {
   "cell_type": "code",
   "execution_count": 20,
   "id": "70821a11",
   "metadata": {},
   "outputs": [
    {
     "data": {
      "text/html": [
       "<div>\n",
       "<style scoped>\n",
       "    .dataframe tbody tr th:only-of-type {\n",
       "        vertical-align: middle;\n",
       "    }\n",
       "\n",
       "    .dataframe tbody tr th {\n",
       "        vertical-align: top;\n",
       "    }\n",
       "\n",
       "    .dataframe thead th {\n",
       "        text-align: right;\n",
       "    }\n",
       "</style>\n",
       "<table border=\"1\" class=\"dataframe\">\n",
       "  <thead>\n",
       "    <tr style=\"text-align: right;\">\n",
       "      <th></th>\n",
       "      <th>Nation</th>\n",
       "      <th>Guessed</th>\n",
       "      <th>Representation</th>\n",
       "      <th>Email</th>\n",
       "      <th>Attempted</th>\n",
       "      <th>Success</th>\n",
       "      <th>Email_2</th>\n",
       "      <th>Attempted.1</th>\n",
       "      <th>Success.1</th>\n",
       "    </tr>\n",
       "  </thead>\n",
       "  <tbody>\n",
       "    <tr>\n",
       "      <th>0</th>\n",
       "      <td>Euan</td>\n",
       "      <td>0</td>\n",
       "      <td>Embassy of Euan</td>\n",
       "      <td>elvismonarchy@proton.me</td>\n",
       "      <td>0</td>\n",
       "      <td>0</td>\n",
       "      <td>euan.austin20108@gmail.com</td>\n",
       "      <td>0</td>\n",
       "      <td>0</td>\n",
       "    </tr>\n",
       "    <tr>\n",
       "      <th>1</th>\n",
       "      <td>Algeria</td>\n",
       "      <td>0</td>\n",
       "      <td>Embassy of Algeria in London</td>\n",
       "      <td>info@algerianembassy.org.uk</td>\n",
       "      <td>0</td>\n",
       "      <td>0</td>\n",
       "      <td>None</td>\n",
       "      <td>0</td>\n",
       "      <td>0</td>\n",
       "    </tr>\n",
       "    <tr>\n",
       "      <th>2</th>\n",
       "      <td>Botswana</td>\n",
       "      <td>0</td>\n",
       "      <td>High Commission of Botswana in London</td>\n",
       "      <td>bohico@gov.bw</td>\n",
       "      <td>0</td>\n",
       "      <td>0</td>\n",
       "      <td>None</td>\n",
       "      <td>0</td>\n",
       "      <td>0</td>\n",
       "    </tr>\n",
       "    <tr>\n",
       "      <th>3</th>\n",
       "      <td>Botswana</td>\n",
       "      <td>0</td>\n",
       "      <td>High Commission of Botswana in London</td>\n",
       "      <td>bohico@govbw.com</td>\n",
       "      <td>0</td>\n",
       "      <td>0</td>\n",
       "      <td>None</td>\n",
       "      <td>0</td>\n",
       "      <td>0</td>\n",
       "    </tr>\n",
       "    <tr>\n",
       "      <th>4</th>\n",
       "      <td>Burundi</td>\n",
       "      <td>0</td>\n",
       "      <td>Embassy of Burundi in London</td>\n",
       "      <td>information@burundiembassyorg.uk</td>\n",
       "      <td>0</td>\n",
       "      <td>0</td>\n",
       "      <td>None</td>\n",
       "      <td>0</td>\n",
       "      <td>0</td>\n",
       "    </tr>\n",
       "  </tbody>\n",
       "</table>\n",
       "</div>"
      ],
      "text/plain": [
       "      Nation  Guessed                         Representation  \\\n",
       "0       Euan        0                        Embassy of Euan   \n",
       "1    Algeria        0           Embassy of Algeria in London   \n",
       "2   Botswana        0  High Commission of Botswana in London   \n",
       "3   Botswana        0  High Commission of Botswana in London   \n",
       "4    Burundi        0           Embassy of Burundi in London   \n",
       "\n",
       "                              Email  Attempted  Success  \\\n",
       "0           elvismonarchy@proton.me          0        0   \n",
       "1       info@algerianembassy.org.uk          0        0   \n",
       "2                     bohico@gov.bw          0        0   \n",
       "3                  bohico@govbw.com          0        0   \n",
       "4  information@burundiembassyorg.uk          0        0   \n",
       "\n",
       "                      Email_2  Attempted.1  Success.1  \n",
       "0  euan.austin20108@gmail.com            0          0  \n",
       "1                        None            0          0  \n",
       "2                        None            0          0  \n",
       "3                        None            0          0  \n",
       "4                        None            0          0  "
      ]
     },
     "execution_count": 20,
     "metadata": {},
     "output_type": "execute_result"
    }
   ],
   "source": [
    "df.head()"
   ]
  },
  {
   "cell_type": "code",
   "execution_count": 21,
   "id": "30ecf36e",
   "metadata": {},
   "outputs": [],
   "source": [
    "import random"
   ]
  },
  {
   "cell_type": "code",
   "execution_count": 22,
   "id": "dfb4bb05",
   "metadata": {},
   "outputs": [],
   "source": [
    "n = 0"
   ]
  },
  {
   "cell_type": "code",
   "execution_count": 23,
   "id": "b3a04ceb",
   "metadata": {},
   "outputs": [],
   "source": [
    "country = df.iloc[n]['Nation'] #ri"
   ]
  },
  {
   "cell_type": "code",
   "execution_count": 24,
   "id": "d13cc01a",
   "metadata": {},
   "outputs": [
    {
     "data": {
      "text/plain": [
       "'Euan'"
      ]
     },
     "execution_count": 24,
     "metadata": {},
     "output_type": "execute_result"
    }
   ],
   "source": [
    "country"
   ]
  },
  {
   "cell_type": "code",
   "execution_count": 25,
   "id": "0f3c55cb",
   "metadata": {},
   "outputs": [],
   "source": [
    "def get_email(i):\n",
    "    #i = random.randint(0,320)\n",
    "    if df.iloc[i]['Guessed'] == 0:\n",
    "        return(df.iloc[i]['Email'])\n",
    "    else:\n",
    "        return get_email(n)"
   ]
  },
  {
   "cell_type": "code",
   "execution_count": 26,
   "id": "5938611e",
   "metadata": {},
   "outputs": [],
   "source": [
    "email = get_email(n)"
   ]
  },
  {
   "cell_type": "code",
   "execution_count": 27,
   "id": "d6651e87",
   "metadata": {},
   "outputs": [
    {
     "data": {
      "text/plain": [
       "'elvismonarchy@proton.me'"
      ]
     },
     "execution_count": 27,
     "metadata": {},
     "output_type": "execute_result"
    }
   ],
   "source": [
    "email"
   ]
  },
  {
   "cell_type": "code",
   "execution_count": 29,
   "id": "1873973f",
   "metadata": {},
   "outputs": [],
   "source": [
    "import emailsender as es"
   ]
  },
  {
   "cell_type": "code",
   "execution_count": 30,
   "id": "6cc9d44b",
   "metadata": {},
   "outputs": [],
   "source": [
    "es.send_email(get_email(n))"
   ]
  }
 ],
 "metadata": {
  "kernelspec": {
   "display_name": "Python 3 (ipykernel)",
   "language": "python",
   "name": "python3"
  },
  "language_info": {
   "codemirror_mode": {
    "name": "ipython",
    "version": 3
   },
   "file_extension": ".py",
   "mimetype": "text/x-python",
   "name": "python",
   "nbconvert_exporter": "python",
   "pygments_lexer": "ipython3",
   "version": "3.9.13"
  }
 },
 "nbformat": 4,
 "nbformat_minor": 5
}
